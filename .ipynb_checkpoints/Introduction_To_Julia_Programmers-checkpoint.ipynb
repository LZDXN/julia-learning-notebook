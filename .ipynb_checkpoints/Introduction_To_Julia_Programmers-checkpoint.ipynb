{
 "cells": [
  {
   "cell_type": "markdown",
   "id": "4c8b8cd0",
   "metadata": {},
   "source": [
    "# Some Basic"
   ]
  },
  {
   "cell_type": "code",
   "execution_count": 6,
   "id": "7878e64f",
   "metadata": {},
   "outputs": [
    {
     "name": "stdout",
     "output_type": "stream",
     "text": [
      "Hello World!\n",
      "Hello World!"
     ]
    }
   ],
   "source": [
    "println(\"Hello World!\")\n",
    "print(\"Hello World!\")"
   ]
  },
  {
   "cell_type": "markdown",
   "id": "9ce2f2f8",
   "metadata": {},
   "source": [
    "## Assign Variables"
   ]
  },
  {
   "cell_type": "code",
   "execution_count": 2,
   "id": "eaf39362",
   "metadata": {},
   "outputs": [
    {
     "data": {
      "text/plain": [
       "Int64"
      ]
     },
     "execution_count": 2,
     "metadata": {},
     "output_type": "execute_result"
    }
   ],
   "source": [
    "the_number = 42\n",
    "typeof(the_number)"
   ]
  },
  {
   "cell_type": "code",
   "execution_count": 7,
   "id": "da081d48",
   "metadata": {},
   "outputs": [
    {
     "data": {
      "text/plain": [
       "String"
      ]
     },
     "execution_count": 7,
     "metadata": {},
     "output_type": "execute_result"
    }
   ],
   "source": [
    "🥸 = \"What is this\"\n",
    "typeof(🥸)"
   ]
  },
  {
   "cell_type": "code",
   "execution_count": null,
   "id": "594b508b",
   "metadata": {},
   "outputs": [],
   "source": []
  }
 ],
 "metadata": {
  "kernelspec": {
   "display_name": "Julia 1.8.2",
   "language": "julia",
   "name": "julia-1.8"
  },
  "language_info": {
   "file_extension": ".jl",
   "mimetype": "application/julia",
   "name": "julia",
   "version": "1.8.2"
  }
 },
 "nbformat": 4,
 "nbformat_minor": 5
}
