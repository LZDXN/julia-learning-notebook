{
 "cells": [
  {
   "cell_type": "markdown",
   "id": "82caca93",
   "metadata": {},
   "source": [
    "# Some Basic"
   ]
  },
  {
   "cell_type": "code",
   "execution_count": 6,
   "id": "2944165d",
   "metadata": {},
   "outputs": [
    {
     "name": "stdout",
     "output_type": "stream",
     "text": [
      "Hello World!\n",
      "Hello World!"
     ]
    }
   ],
   "source": [
    "println(\"Hello World!\")\n",
    "print(\"Hello World!\")"
   ]
  },
  {
   "cell_type": "markdown",
   "id": "5ce7c31b",
   "metadata": {},
   "source": [
    "## Assign Variables"
   ]
  },
  {
   "cell_type": "code",
   "execution_count": 2,
   "id": "9f3b8325",
   "metadata": {},
   "outputs": [
    {
     "data": {
      "text/plain": [
       "Int64"
      ]
     },
     "execution_count": 2,
     "metadata": {},
     "output_type": "execute_result"
    }
   ],
   "source": [
    "the_number = 42\n",
    "typeof(the_number)"
   ]
  },
  {
   "cell_type": "code",
   "execution_count": 10,
   "id": "ca92a39d",
   "metadata": {},
   "outputs": [
    {
     "data": {
      "text/plain": [
       "0"
      ]
     },
     "execution_count": 10,
     "metadata": {},
     "output_type": "execute_result"
    }
   ],
   "source": [
    "😸 = 1\n",
    "💇 = -1\n",
    "\n",
    "😸 + 💇 "
   ]
  },
  {
   "cell_type": "code",
   "execution_count": 11,
   "id": "e3da3868",
   "metadata": {},
   "outputs": [
    {
     "data": {
      "text/plain": [
       "String"
      ]
     },
     "execution_count": 11,
     "metadata": {},
     "output_type": "execute_result"
    }
   ],
   "source": [
    "🥸 = \"What is this\"\n",
    "typeof(🥸)"
   ]
  },
  {
   "cell_type": "code",
   "execution_count": null,
   "id": "3679844f",
   "metadata": {},
   "outputs": [],
   "source": []
  }
 ],
 "metadata": {
  "kernelspec": {
   "display_name": "Julia 1.8.2",
   "language": "julia",
   "name": "julia-1.8"
  },
  "language_info": {
   "file_extension": ".jl",
   "mimetype": "application/julia",
   "name": "julia",
   "version": "1.8.2"
  }
 },
 "nbformat": 4,
 "nbformat_minor": 5
}
